{
 "cells": [
  {
   "cell_type": "code",
   "execution_count": 2,
   "metadata": {},
   "outputs": [
    {
     "name": "stdout",
     "output_type": "stream",
     "text": [
      "Defaulting to user installation because normal site-packages is not writeable\n",
      "Requirement already satisfied: datasets in /home/vgn2004/.local/lib/python3.8/site-packages (2.11.0)\n",
      "Requirement already satisfied: transformers in /home/vgn2004/.local/lib/python3.8/site-packages (4.28.1)\n",
      "Requirement already satisfied: torch in /home/vgn2004/.local/lib/python3.8/site-packages (2.0.0)\n",
      "Requirement already satisfied: filelock in /share/apps/python/3.8.6/intel/lib/python3.8/site-packages (from torch) (3.0.12)\n",
      "Requirement already satisfied: nvidia-cuda-runtime-cu11==11.7.99 in /home/vgn2004/.local/lib/python3.8/site-packages (from torch) (11.7.99)\n",
      "Requirement already satisfied: nvidia-nccl-cu11==2.14.3 in /home/vgn2004/.local/lib/python3.8/site-packages (from torch) (2.14.3)\n",
      "Requirement already satisfied: nvidia-curand-cu11==10.2.10.91 in /home/vgn2004/.local/lib/python3.8/site-packages (from torch) (10.2.10.91)\n",
      "Requirement already satisfied: sympy in /home/vgn2004/.local/lib/python3.8/site-packages (from torch) (1.11.1)\n",
      "Requirement already satisfied: nvidia-cudnn-cu11==8.5.0.96 in /home/vgn2004/.local/lib/python3.8/site-packages (from torch) (8.5.0.96)\n",
      "Requirement already satisfied: nvidia-nvtx-cu11==11.7.91 in /home/vgn2004/.local/lib/python3.8/site-packages (from torch) (11.7.91)\n",
      "Requirement already satisfied: nvidia-cusparse-cu11==11.7.4.91 in /home/vgn2004/.local/lib/python3.8/site-packages (from torch) (11.7.4.91)\n",
      "Requirement already satisfied: nvidia-cuda-nvrtc-cu11==11.7.99 in /home/vgn2004/.local/lib/python3.8/site-packages (from torch) (11.7.99)\n",
      "Requirement already satisfied: nvidia-cuda-cupti-cu11==11.7.101 in /home/vgn2004/.local/lib/python3.8/site-packages (from torch) (11.7.101)\n",
      "Requirement already satisfied: nvidia-cublas-cu11==11.10.3.66 in /home/vgn2004/.local/lib/python3.8/site-packages (from torch) (11.10.3.66)\n",
      "Requirement already satisfied: networkx in /home/vgn2004/.local/lib/python3.8/site-packages (from torch) (3.1)\n",
      "Requirement already satisfied: triton==2.0.0 in /home/vgn2004/.local/lib/python3.8/site-packages (from torch) (2.0.0)\n",
      "Requirement already satisfied: jinja2 in /share/apps/python/3.8.6/intel/lib/python3.8/site-packages (from torch) (2.11.2)\n",
      "Requirement already satisfied: nvidia-cufft-cu11==10.9.0.58 in /home/vgn2004/.local/lib/python3.8/site-packages (from torch) (10.9.0.58)\n",
      "Requirement already satisfied: typing-extensions in /home/vgn2004/.local/lib/python3.8/site-packages (from torch) (4.5.0)\n",
      "Requirement already satisfied: nvidia-cusolver-cu11==11.4.0.1 in /home/vgn2004/.local/lib/python3.8/site-packages (from torch) (11.4.0.1)\n",
      "Requirement already satisfied: setuptools in /share/apps/python/3.8.6/intel/lib/python3.8/site-packages (from nvidia-cuda-runtime-cu11==11.7.99->torch) (49.2.1)\n",
      "Requirement already satisfied: wheel in /share/apps/python/3.8.6/intel/lib/python3.8/site-packages (from nvidia-cuda-runtime-cu11==11.7.99->torch) (0.35.1)\n",
      "Requirement already satisfied: setuptools in /share/apps/python/3.8.6/intel/lib/python3.8/site-packages (from nvidia-cuda-runtime-cu11==11.7.99->torch) (49.2.1)\n",
      "Requirement already satisfied: wheel in /share/apps/python/3.8.6/intel/lib/python3.8/site-packages (from nvidia-cuda-runtime-cu11==11.7.99->torch) (0.35.1)\n",
      "Requirement already satisfied: nvidia-cublas-cu11==11.10.3.66 in /home/vgn2004/.local/lib/python3.8/site-packages (from torch) (11.10.3.66)\n",
      "Requirement already satisfied: setuptools in /share/apps/python/3.8.6/intel/lib/python3.8/site-packages (from nvidia-cuda-runtime-cu11==11.7.99->torch) (49.2.1)\n",
      "Requirement already satisfied: wheel in /share/apps/python/3.8.6/intel/lib/python3.8/site-packages (from nvidia-cuda-runtime-cu11==11.7.99->torch) (0.35.1)\n",
      "Requirement already satisfied: setuptools in /share/apps/python/3.8.6/intel/lib/python3.8/site-packages (from nvidia-cuda-runtime-cu11==11.7.99->torch) (49.2.1)\n",
      "Requirement already satisfied: wheel in /share/apps/python/3.8.6/intel/lib/python3.8/site-packages (from nvidia-cuda-runtime-cu11==11.7.99->torch) (0.35.1)\n",
      "Requirement already satisfied: setuptools in /share/apps/python/3.8.6/intel/lib/python3.8/site-packages (from nvidia-cuda-runtime-cu11==11.7.99->torch) (49.2.1)\n",
      "Requirement already satisfied: wheel in /share/apps/python/3.8.6/intel/lib/python3.8/site-packages (from nvidia-cuda-runtime-cu11==11.7.99->torch) (0.35.1)\n",
      "Requirement already satisfied: setuptools in /share/apps/python/3.8.6/intel/lib/python3.8/site-packages (from nvidia-cuda-runtime-cu11==11.7.99->torch) (49.2.1)\n",
      "Requirement already satisfied: wheel in /share/apps/python/3.8.6/intel/lib/python3.8/site-packages (from nvidia-cuda-runtime-cu11==11.7.99->torch) (0.35.1)\n",
      "Requirement already satisfied: filelock in /share/apps/python/3.8.6/intel/lib/python3.8/site-packages (from torch) (3.0.12)\n",
      "Requirement already satisfied: lit in /home/vgn2004/.local/lib/python3.8/site-packages (from triton==2.0.0->torch) (16.0.2)\n",
      "Requirement already satisfied: cmake in /home/vgn2004/.local/lib/python3.8/site-packages (from triton==2.0.0->torch) (3.26.3)\n",
      "Requirement already satisfied: torch in /home/vgn2004/.local/lib/python3.8/site-packages (2.0.0)\n",
      "Requirement already satisfied: nvidia-cublas-cu11==11.10.3.66 in /home/vgn2004/.local/lib/python3.8/site-packages (from torch) (11.10.3.66)\n",
      "Requirement already satisfied: mpmath>=0.19 in /home/vgn2004/.local/lib/python3.8/site-packages (from sympy->torch) (1.3.0)\n",
      "Requirement already satisfied: MarkupSafe>=0.23 in /share/apps/python/3.8.6/intel/lib/python3.8/site-packages (from jinja2->torch) (1.1.1)\n",
      "Requirement already satisfied: pyarrow>=8.0.0 in /home/vgn2004/.local/lib/python3.8/site-packages (from datasets) (11.0.0)\n",
      "Requirement already satisfied: xxhash in /home/vgn2004/.local/lib/python3.8/site-packages (from datasets) (3.2.0)\n",
      "Requirement already satisfied: pandas in /share/apps/python/3.8.6/intel/lib/python3.8/site-packages (from datasets) (1.1.3)\n",
      "Requirement already satisfied: requests>=2.19.0 in /share/apps/python/3.8.6/intel/lib/python3.8/site-packages (from datasets) (2.24.0)\n",
      "Requirement already satisfied: responses<0.19 in /home/vgn2004/.local/lib/python3.8/site-packages (from datasets) (0.18.0)\n",
      "Requirement already satisfied: packaging in /share/apps/python/3.8.6/intel/lib/python3.8/site-packages (from datasets) (20.4)\n",
      "Requirement already satisfied: tqdm>=4.62.1 in /home/vgn2004/.local/lib/python3.8/site-packages (from datasets) (4.65.0)\n",
      "Requirement already satisfied: multiprocess in /home/vgn2004/.local/lib/python3.8/site-packages (from datasets) (0.70.14)\n",
      "Requirement already satisfied: aiohttp in /home/vgn2004/.local/lib/python3.8/site-packages (from datasets) (3.8.4)\n",
      "Requirement already satisfied: fsspec[http]>=2021.11.1 in /home/vgn2004/.local/lib/python3.8/site-packages (from datasets) (2023.4.0)\n",
      "Requirement already satisfied: numpy>=1.17 in /share/apps/python/3.8.6/intel/lib/python3.8/site-packages/numpy-1.19.2-py3.8-linux-x86_64.egg (from datasets) (1.19.2)\n",
      "Requirement already satisfied: huggingface-hub<1.0.0,>=0.11.0 in /home/vgn2004/.local/lib/python3.8/site-packages (from datasets) (0.14.1)\n",
      "Requirement already satisfied: dill<0.3.7,>=0.3.0 in /home/vgn2004/.local/lib/python3.8/site-packages (from datasets) (0.3.6)\n",
      "Requirement already satisfied: pyyaml>=5.1 in /share/apps/python/3.8.6/intel/lib/python3.8/site-packages (from datasets) (5.3.1)\n",
      "Requirement already satisfied: numpy>=1.17 in /share/apps/python/3.8.6/intel/lib/python3.8/site-packages/numpy-1.19.2-py3.8-linux-x86_64.egg (from datasets) (1.19.2)\n",
      "Requirement already satisfied: filelock in /share/apps/python/3.8.6/intel/lib/python3.8/site-packages (from torch) (3.0.12)\n",
      "Requirement already satisfied: fsspec in /home/vgn2004/.local/lib/python3.8/site-packages (from huggingface-hub<1.0.0,>=0.11.0->datasets) (2023.4.0)\n",
      "Requirement already satisfied: tqdm>=4.62.1 in /home/vgn2004/.local/lib/python3.8/site-packages (from datasets) (4.65.0)\n",
      "Requirement already satisfied: requests>=2.19.0 in /share/apps/python/3.8.6/intel/lib/python3.8/site-packages (from datasets) (2.24.0)\n",
      "Requirement already satisfied: typing-extensions in /home/vgn2004/.local/lib/python3.8/site-packages (from torch) (4.5.0)\n",
      "Requirement already satisfied: pyyaml>=5.1 in /share/apps/python/3.8.6/intel/lib/python3.8/site-packages (from datasets) (5.3.1)\n"
     ]
    },
    {
     "name": "stdout",
     "output_type": "stream",
     "text": [
      "Collecting packaging\n",
      "  Using cached packaging-23.1-py3-none-any.whl (48 kB)\n",
      "Requirement already satisfied: aiohttp in /home/vgn2004/.local/lib/python3.8/site-packages (from datasets) (3.8.4)\n",
      "Requirement already satisfied: requests>=2.19.0 in /share/apps/python/3.8.6/intel/lib/python3.8/site-packages (from datasets) (2.24.0)\n",
      "Requirement already satisfied: certifi>=2017.4.17 in /share/apps/python/3.8.6/intel/lib/python3.8/site-packages (from requests>=2.19.0->datasets) (2020.6.20)\n",
      "Requirement already satisfied: chardet<4,>=3.0.2 in /share/apps/python/3.8.6/intel/lib/python3.8/site-packages (from requests>=2.19.0->datasets) (3.0.4)\n",
      "Requirement already satisfied: idna<3,>=2.5 in /share/apps/python/3.8.6/intel/lib/python3.8/site-packages (from requests>=2.19.0->datasets) (2.10)\n",
      "Requirement already satisfied: urllib3!=1.25.0,!=1.25.1,<1.26,>=1.21.1 in /share/apps/python/3.8.6/intel/lib/python3.8/site-packages (from requests>=2.19.0->datasets) (1.25.10)\n",
      "Requirement already satisfied: dill<0.3.7,>=0.3.0 in /home/vgn2004/.local/lib/python3.8/site-packages (from datasets) (0.3.6)\n",
      "Requirement already satisfied: requests>=2.19.0 in /share/apps/python/3.8.6/intel/lib/python3.8/site-packages (from datasets) (2.24.0)\n",
      "Requirement already satisfied: urllib3!=1.25.0,!=1.25.1,<1.26,>=1.21.1 in /share/apps/python/3.8.6/intel/lib/python3.8/site-packages (from requests>=2.19.0->datasets) (1.25.10)\n",
      "Requirement already satisfied: pytz>=2017.2 in /share/apps/python/3.8.6/intel/lib/python3.8/site-packages (from pandas->datasets) (2020.1)\n",
      "Requirement already satisfied: numpy>=1.17 in /share/apps/python/3.8.6/intel/lib/python3.8/site-packages/numpy-1.19.2-py3.8-linux-x86_64.egg (from datasets) (1.19.2)\n",
      "Requirement already satisfied: python-dateutil>=2.7.3 in /share/apps/python/3.8.6/intel/lib/python3.8/site-packages (from pandas->datasets) (2.8.1)\n",
      "Requirement already satisfied: six>=1.5 in /share/apps/python/3.8.6/intel/lib/python3.8/site-packages (from python-dateutil>=2.7.3->pandas->datasets) (1.15.0)\n",
      "Requirement already satisfied: filelock in /share/apps/python/3.8.6/intel/lib/python3.8/site-packages (from torch) (3.0.12)\n",
      "Requirement already satisfied: regex!=2019.12.17 in /home/vgn2004/.local/lib/python3.8/site-packages (from transformers) (2023.3.23)\n",
      "Requirement already satisfied: tokenizers!=0.11.3,<0.14,>=0.11.1 in /home/vgn2004/.local/lib/python3.8/site-packages (from transformers) (0.13.3)\n",
      "Requirement already satisfied: huggingface-hub<1.0.0,>=0.11.0 in /home/vgn2004/.local/lib/python3.8/site-packages (from datasets) (0.14.1)\n",
      "Requirement already satisfied: numpy>=1.17 in /share/apps/python/3.8.6/intel/lib/python3.8/site-packages/numpy-1.19.2-py3.8-linux-x86_64.egg (from datasets) (1.19.2)\n",
      "Requirement already satisfied: requests>=2.19.0 in /share/apps/python/3.8.6/intel/lib/python3.8/site-packages (from datasets) (2.24.0)\n",
      "Requirement already satisfied: pyyaml>=5.1 in /share/apps/python/3.8.6/intel/lib/python3.8/site-packages (from datasets) (5.3.1)\n",
      "Requirement already satisfied: tqdm>=4.62.1 in /home/vgn2004/.local/lib/python3.8/site-packages (from datasets) (4.65.0)\n",
      "Requirement already satisfied: multidict<7.0,>=4.5 in /home/vgn2004/.local/lib/python3.8/site-packages (from aiohttp->datasets) (6.0.4)\n",
      "Requirement already satisfied: yarl<2.0,>=1.0 in /home/vgn2004/.local/lib/python3.8/site-packages (from aiohttp->datasets) (1.9.2)\n",
      "Requirement already satisfied: aiosignal>=1.1.2 in /home/vgn2004/.local/lib/python3.8/site-packages (from aiohttp->datasets) (1.3.1)\n",
      "Requirement already satisfied: async-timeout<5.0,>=4.0.0a3 in /home/vgn2004/.local/lib/python3.8/site-packages (from aiohttp->datasets) (4.0.2)\n",
      "Requirement already satisfied: charset-normalizer<4.0,>=2.0 in /home/vgn2004/.local/lib/python3.8/site-packages (from aiohttp->datasets) (3.1.0)\n",
      "Requirement already satisfied: attrs>=17.3.0 in /share/apps/python/3.8.6/intel/lib/python3.8/site-packages (from aiohttp->datasets) (20.2.0)\n",
      "Requirement already satisfied: frozenlist>=1.1.1 in /home/vgn2004/.local/lib/python3.8/site-packages (from aiohttp->datasets) (1.3.3)\n",
      "Requirement already satisfied: frozenlist>=1.1.1 in /home/vgn2004/.local/lib/python3.8/site-packages (from aiohttp->datasets) (1.3.3)\n",
      "Requirement already satisfied: idna<3,>=2.5 in /share/apps/python/3.8.6/intel/lib/python3.8/site-packages (from requests>=2.19.0->datasets) (2.10)\n",
      "Requirement already satisfied: multidict<7.0,>=4.5 in /home/vgn2004/.local/lib/python3.8/site-packages (from aiohttp->datasets) (6.0.4)\n",
      "Installing collected packages: packaging\n",
      "Successfully installed packaging-23.1\n",
      "\u001b[33mWARNING: You are using pip version 20.2.3; however, version 23.1.2 is available.\n",
      "You should consider upgrading via the '/share/apps/python/3.8.6/intel/bin/python -m pip install --upgrade pip' command.\u001b[0m\n"
     ]
    }
   ],
   "source": [
    "!module load cuda/11.6.2\n",
    "!module load cudnn/8.6.0.163-cuda11\n",
    "!pip install --use-feature=2020-resolver datasets transformers torch"
   ]
  },
  {
   "cell_type": "code",
   "execution_count": 3,
   "metadata": {},
   "outputs": [
    {
     "name": "stdout",
     "output_type": "stream",
     "text": [
      "Hostname: gr006.hpc.nyu.edu\n",
      "Processor: Intel(R) Xeon(R) Platinum 8268 CPU @ 2.90GHz\n",
      "RAM: 168Gi\n"
     ]
    }
   ],
   "source": [
    "!echo \"Hostname: $(hostname)\"\n",
    "!echo \"Processor: $(lscpu | grep 'Model name' | awk -F ':' '{print $2}' | xargs)\"\n",
    "!echo \"RAM: $(free -h | grep 'Mem:' | awk '{print $4}')\""
   ]
  },
  {
   "cell_type": "code",
   "execution_count": 16,
   "metadata": {},
   "outputs": [
    {
     "name": "stderr",
     "output_type": "stream",
     "text": [
      "The attention mask and the pad token id were not set. As a consequence, you may observe unexpected behavior. Please pass your input's `attention_mask` to obtain reliable results.\n",
      "Setting `pad_token_id` to `eos_token_id`:50256 for open-end generation.\n"
     ]
    },
    {
     "name": "stdout",
     "output_type": "stream",
     "text": [
      "The long-term goal of this project is to understand the molecular mechanisms of the regulation of the expression of the human immunodeficiency virus type 1 (HIV-1) protease, reverse transcriptase (RT). The HIV-1 protease is a key enzyme in the life cycle of the retrovirus, and it is the target of the anti-HIV drugs, ganciclovir and foscarnet. The HIV- 1 protease is the target for the anti-retroviral drugs gancicivir and foscopicarnet. In addition, the HIV-1 RT is the target site of the anti HIV-1 drug gancicilide, gancet. The RT is a potent inhibitor of the HIV-specific enzyme, gancia-specific enzyme. The HIV protease is an enzyme that is a potent substrate for the enzyme that is active site of the HIV protease. The enzyme that is the enzyme that has been\n"
     ]
    }
   ],
   "source": [
    "from transformers import GPT2LMHeadModel, GPT2Tokenizer\n",
    "\n",
    "# Replace these with the paths to your saved model and tokenizer\n",
    "epoch = 1\n",
    "index = 81999\n",
    "model_path = f\"fine_tuned_gpt2_{epoch}_{index}\"\n",
    "tokenizer_path = f\"fine_tuned_gpt2_{epoch}_{index}\"\n",
    "\n",
    "# Load the fine-tuned model and tokenizer\n",
    "model = GPT2LMHeadModel.from_pretrained(model_path)\n",
    "tokenizer = GPT2Tokenizer.from_pretrained(tokenizer_path)\n",
    "\n",
    "# Example input text for text completion\n",
    "input_text = \"The long-term goal\"\n",
    "\n",
    "# Encode the input text and convert it to a tensor\n",
    "input_ids = tokenizer.encode(input_text, return_tensors='pt')\n",
    "\n",
    "# Generate text completion (inference) with the fine-tuned model\n",
    "output = model.generate(\n",
    "    input_ids,\n",
    "    max_length=200,\n",
    "    num_return_sequences=1,\n",
    "    no_repeat_ngram_size=4,\n",
    "    temperature=0.8,  # Higher values make the output more random, lower values make it more focused\n",
    "    top_k=50,  # Consider only the top k tokens when sampling\n",
    "    top_p=0.95,  # Sample only from tokens with cumulative probability higher than this threshold\n",
    ")\n",
    "\n",
    "# Decode the generated output\n",
    "output_text = tokenizer.decode(output[0], skip_special_tokens=True)\n",
    "\n",
    "print(output_text)"
   ]
  }
 ],
 "metadata": {
  "kernelspec": {
   "display_name": "Python 3",
   "language": "python",
   "name": "python3"
  },
  "language_info": {
   "codemirror_mode": {
    "name": "ipython",
    "version": 3
   },
   "file_extension": ".py",
   "mimetype": "text/x-python",
   "name": "python",
   "nbconvert_exporter": "python",
   "pygments_lexer": "ipython3",
   "version": "3.8.6"
  }
 },
 "nbformat": 4,
 "nbformat_minor": 4
}
