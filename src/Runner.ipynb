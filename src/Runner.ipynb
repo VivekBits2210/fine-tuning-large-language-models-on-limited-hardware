{
 "cells": [
  {
   "cell_type": "code",
   "execution_count": 1,
   "metadata": {},
   "outputs": [
    {
     "ename": "IndentationError",
     "evalue": "unindent does not match any outer indentation level (profiler_utils.py, line 11)",
     "output_type": "error",
     "traceback": [
      "Traceback \u001b[0;36m(most recent call last)\u001b[0m:\n",
      "  File \u001b[1;32m\"/share/apps/python/3.8.6/intel/lib/python3.8/site-packages/IPython/core/interactiveshell.py\"\u001b[0m, line \u001b[1;32m3417\u001b[0m, in \u001b[1;35mrun_code\u001b[0m\n    exec(code_obj, self.user_global_ns, self.user_ns)\n",
      "  File \u001b[1;32m\"<ipython-input-1-b110a2efdc6d>\"\u001b[0m, line \u001b[1;32m7\u001b[0m, in \u001b[1;35m<module>\u001b[0m\n    from model_manager import ModelManager\n",
      "\u001b[0;36m  File \u001b[0;32m\"/scratch/vgn2004/fine-tuning-large-language-models-on-limited-hardware/src/model_manager.py\"\u001b[0;36m, line \u001b[0;32m4\u001b[0;36m, in \u001b[0;35m<module>\u001b[0;36m\u001b[0m\n\u001b[0;31m    from profiler_utils import measure_time_taken\u001b[0m\n",
      "\u001b[0;36m  File \u001b[0;32m\"/scratch/vgn2004/fine-tuning-large-language-models-on-limited-hardware/src/profiler_utils.py\"\u001b[0;36m, line \u001b[0;32m11\u001b[0m\n\u001b[0;31m    start_time = time.time()\u001b[0m\n\u001b[0m                            ^\u001b[0m\n\u001b[0;31mIndentationError\u001b[0m\u001b[0;31m:\u001b[0m unindent does not match any outer indentation level\n"
     ]
    }
   ],
   "source": [
    "import logging\n",
    "\n",
    "from config import UserConfiguration, LogConfiguration, TorchConfiguration, TokenizerConfiguration, SystemConfiguration\n",
    "\n",
    "from os_environment_manager import OSEnvironmentManager\n",
    "from package_path_manager import PackagePathManager\n",
    "from model_manager import ModelManager\n",
    "from system_monitor import SystemMonitor\n",
    "\n",
    "from tokenizer import Tokenizer\n",
    "from data_manager import DataManager\n",
    "\n",
    "\n",
    "# TODO: These should be picked up from command line\n",
    "NET_ID = \"vgn2004\"\n",
    "ENV = \"pre_prod\"\n",
    "NUM_WORKERS = 8\n",
    "MAX_TOKENS = 256\n",
    "MODEL_NAME = \"facebook/opt-125m\"\n",
    "DATASET_NAME = \"NIH_ExPORTER_awarded_grant_text\"\n",
    "BATCH_SIZE = 64\n",
    "DATASET_PATH = \"/scratch/vgn2004/fine_tuning/datasets/NIH_ExPORTER_awarded_grant_text.jsonl.zst\"\n",
    "\n",
    "# Constants\n",
    "OS_ENV_DICT = {\n",
    "    \"CUDA_VISIBLE_DEVICES\": 0,\n",
    "    \"TRANSFORMERS_NO_ADVISORY_WARNINGS\": \"true\",\n",
    "    \"TORCHDYNAMO_DISABLE\": 1\n",
    "}"
   ]
  },
  {
   "cell_type": "code",
   "execution_count": null,
   "metadata": {},
   "outputs": [],
   "source": [
    "# Configure the logger, needed for initial utilization checks\n",
    "LogConfiguration.setup_logging()\n",
    "logger = logging.getLogger(__name__)\n",
    "\n",
    "# Get initial RAM and GPU utilization\n",
    "monitor = SystemMonitor()\n",
    "logger.info(f\"RAM Usage: {monitor.get_ram_usage()} MB\")\n",
    "logger.info(f\"GPU Utilization: {monitor.get_gpu_utilization()} MB\")\n",
    "\n",
    "# Configurations\n",
    "\n",
    "# Setup folder/file path related configurations\n",
    "user_config = UserConfiguration(net_id=NET_ID, env=ENV)\n",
    "system_config = SystemConfiguration(num_workers=NUM_WORKERS)\n",
    "tokenizer_config = TokenizerConfiguration(max_tokens=MAX_TOKENS)\n",
    "torch_config = TorchConfiguration()\n",
    "torch_config.commit()\n",
    "\n",
    "# System configurations\n",
    "\n",
    "# Add Python packages to sys path\n",
    "package_path_manager = PackagePathManager(user_config)\n",
    "package_path_manager.add_package_paths_to_system()\n",
    "\n",
    "# Add environment variables to OS env\n",
    "os_env_manager = OSEnvironmentManager()\n",
    "os_env_manager.update_from_dict(OS_ENV_DICT)\n",
    "\n",
    "# Tokenizer\n",
    "tokenizer = Tokenizer(user_config, tokenizer_config)\n",
    "tokenizer.load_for_model(MODEL_NAME)\n",
    "\n",
    "# Datasets\n",
    "data_manager = DataManager(tokenizer, user_config, system_config)\n",
    "data_manager.dataset_name = DATASET_NAME\n",
    "\n",
    "# Tokenize dataset from scratch (skipped)\n",
    "# data_manager.create_dataset_from_jsonl_zst_file(name=DATASET_NAME,\n",
    "#                                                 jsonl_zst_file_path=DATASET_PATH,\n",
    "#                                                 save_to_disk=False)\n",
    "# data_manager.create_tokenized_dataset(save_to_disk=False)\n",
    "# training_dataset, validation_dataset = data_manager.fetch_train_validation_split(save_to_disk=False)\n",
    "\n",
    "# Load from disk\n",
    "training_dataset, validation_dataset = data_manager.fetch_train_validation_split_from_disk()\n",
    "\n",
    "# Dataloaders\n",
    "training_dataloader, validation_dataloader = data_manager.fetch_dataloaders(\n",
    "    training_dataset=training_dataset,\n",
    "    validation_dataset=validation_dataset,\n",
    "    batch_size=BATCH_SIZE\n",
    ")\n",
    "\n",
    "# Model\n",
    "model_manager = ModelManager(system_config)\n",
    "model_manager.load(MODEL_NAME)\n",
    "logger.info(model_manager.model)"
   ]
  },
  {
   "cell_type": "code",
   "execution_count": null,
   "metadata": {},
   "outputs": [],
   "source": []
  },
  {
   "cell_type": "code",
   "execution_count": null,
   "metadata": {},
   "outputs": [],
   "source": []
  }
 ],
 "metadata": {
  "kernelspec": {
   "display_name": "Python 3",
   "language": "python",
   "name": "python3"
  },
  "language_info": {
   "codemirror_mode": {
    "name": "ipython",
    "version": 3
   },
   "file_extension": ".py",
   "mimetype": "text/x-python",
   "name": "python",
   "nbconvert_exporter": "python",
   "pygments_lexer": "ipython3",
   "version": "3.8.6"
  }
 },
 "nbformat": 4,
 "nbformat_minor": 4
}
