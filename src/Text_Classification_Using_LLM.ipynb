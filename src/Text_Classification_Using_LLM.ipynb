{
 "cells": [
  {
   "cell_type": "code",
   "execution_count": 1,
   "metadata": {},
   "outputs": [
    {
     "name": "stderr",
     "output_type": "stream",
     "text": [
      "/share/apps/python/3.8.6/intel/lib/python3.8/site-packages/setuptools/distutils_patch.py:25: UserWarning: Distutils was imported before Setuptools. This usage is discouraged and may exhibit undesirable behaviors or errors. Please use Setuptools' objects directly or at least import Setuptools first.\n",
      "  warnings.warn(\n"
     ]
    }
   ],
   "source": [
    "import wandb\n",
    "import torch\n",
    "import gc\n",
    "from transformers import AutoModelForCausalLM, AutoModelForSequenceClassification, AutoConfig, BitsAndBytesConfig\n",
    "from peft import get_peft_model, LoraConfig\n",
    "import bitsandbytes as bnb"
   ]
  },
  {
   "cell_type": "code",
   "execution_count": 2,
   "metadata": {},
   "outputs": [
    {
     "name": "stderr",
     "output_type": "stream",
     "text": [
      "Failed to detect the name of this notebook, you can set it manually with the WANDB_NOTEBOOK_NAME environment variable to enable code saving.\n",
      "\u001b[34m\u001b[1mwandb\u001b[0m: Currently logged in as: \u001b[33mviveknayak2210\u001b[0m (\u001b[33mhpml-nyu\u001b[0m). Use \u001b[1m`wandb login --relogin`\u001b[0m to force relogin\n"
     ]
    },
    {
     "data": {
      "text/html": [
       "Tracking run with wandb version 0.15.12"
      ],
      "text/plain": [
       "<IPython.core.display.HTML object>"
      ]
     },
     "metadata": {},
     "output_type": "display_data"
    },
    {
     "data": {
      "text/html": [
       "Run data is saved locally in <code>/scratch/vgn2004/fine-tuning-large-language-models-on-limited-hardware/src/wandb/run-20231023_100752-buajcqra</code>"
      ],
      "text/plain": [
       "<IPython.core.display.HTML object>"
      ]
     },
     "metadata": {},
     "output_type": "display_data"
    },
    {
     "data": {
      "text/html": [
       "Syncing run <strong><a href='https://wandb.ai/hpml-nyu/qlora_classification/runs/buajcqra' target=\"_blank\">grateful-dragon-10</a></strong> to <a href='https://wandb.ai/hpml-nyu/qlora_classification' target=\"_blank\">Weights & Biases</a> (<a href='https://wandb.me/run' target=\"_blank\">docs</a>)<br/>"
      ],
      "text/plain": [
       "<IPython.core.display.HTML object>"
      ]
     },
     "metadata": {},
     "output_type": "display_data"
    },
    {
     "data": {
      "text/html": [
       " View project at <a href='https://wandb.ai/hpml-nyu/qlora_classification' target=\"_blank\">https://wandb.ai/hpml-nyu/qlora_classification</a>"
      ],
      "text/plain": [
       "<IPython.core.display.HTML object>"
      ]
     },
     "metadata": {},
     "output_type": "display_data"
    },
    {
     "data": {
      "text/html": [
       " View run at <a href='https://wandb.ai/hpml-nyu/qlora_classification/runs/buajcqra' target=\"_blank\">https://wandb.ai/hpml-nyu/qlora_classification/runs/buajcqra</a>"
      ],
      "text/plain": [
       "<IPython.core.display.HTML object>"
      ]
     },
     "metadata": {},
     "output_type": "display_data"
    },
    {
     "data": {
      "text/plain": [
       "386"
      ]
     },
     "execution_count": 2,
     "metadata": {},
     "output_type": "execute_result"
    }
   ],
   "source": [
    "def nested_dict_from_flat(flat_dict):\n",
    "    nested_dict = {}\n",
    "    for key, value in flat_dict.items():\n",
    "        keys = key.split(\".\")\n",
    "        d = nested_dict\n",
    "        for k in keys[:-1]:\n",
    "            d = d.setdefault(k, {})\n",
    "        d[keys[-1]] = value\n",
    "    return nested_dict\n",
    "\n",
    "wandb.init(project=\"qlora_classification\")\n",
    "configuration = nested_dict_from_flat({k: v for k, v in wandb.config.as_dict().items()})\n",
    "\n",
    "# Clear the GPU\n",
    "torch.cuda.empty_cache()\n",
    "gc.collect()"
   ]
  },
  {
   "cell_type": "code",
   "execution_count": 3,
   "metadata": {},
   "outputs": [],
   "source": [
    "import pandas as pd\n",
    "from torch.utils.data import Dataset\n",
    "from transformers import BertTokenizer\n",
    "\n",
    "class MultilabelDataset(Dataset):\n",
    "    def __init__(self, pandas_df, tokenizer, max_length=1024):\n",
    "        self.data = pandas_df\n",
    "        self.tokenizer = tokenizer\n",
    "        self.max_length = max_length\n",
    "        self.label_cols = ['Computer Science', 'Physics', 'Mathematics', 'Statistics', 'Quantitative Biology', 'Quantitative Finance']\n",
    "\n",
    "    def __len__(self):\n",
    "        return len(self.data)\n",
    "\n",
    "    def __getitem__(self, index):\n",
    "        row = self.data.iloc[index]\n",
    "\n",
    "        # Join title and abstract as specified\n",
    "        text = f\"{row['TITLE']}: {row['ABSTRACT']}\"\n",
    "\n",
    "        # Tokenize the combined text without truncation\n",
    "        full_inputs = self.tokenizer.encode_plus(\n",
    "            text,\n",
    "            None,\n",
    "            add_special_tokens=True,\n",
    "            return_token_type_ids=True,\n",
    "            truncation=False\n",
    "        )\n",
    "\n",
    "        # Tokenize with possible truncation\n",
    "        truncated_inputs = self.tokenizer.encode_plus(\n",
    "            text,\n",
    "            None,\n",
    "                add_special_tokens=True,\n",
    "            max_length=self.max_length,\n",
    "            padding='max_length',\n",
    "            return_token_type_ids=True,\n",
    "            truncation=True\n",
    "        )\n",
    "\n",
    "        # Check if text was truncated\n",
    "        if len(full_inputs['input_ids']) > self.max_length:\n",
    "            truncated_tokens = full_inputs['input_ids'][self.max_length:]\n",
    "            truncated_text = self.tokenizer.decode(truncated_tokens, skip_special_tokens=True)\n",
    "            print(f\"Text at index {index} was truncated. Truncated text: {truncated_text}\")\n",
    "\n",
    "        # Extract the one-hot encoded labels for the given row\n",
    "        labels = row[self.label_cols].values.astype(int).tolist()\n",
    "\n",
    "        return {\n",
    "            'input_ids': torch.tensor(truncated_inputs['input_ids'], dtype=torch.long),\n",
    "            'attention_mask': torch.tensor(truncated_inputs['attention_mask'], dtype=torch.long),\n",
    "            'token_type_ids': torch.tensor(truncated_inputs['token_type_ids'], dtype=torch.long),\n",
    "            'labels': torch.tensor(labels, dtype=torch.float)  # Convert labels to tensor here\n",
    "        }\n",
    "\n"
   ]
  },
  {
   "cell_type": "code",
   "execution_count": 4,
   "metadata": {},
   "outputs": [],
   "source": [
    "import pandas as pd\n",
    "from sklearn.model_selection import train_test_split\n",
    "from torch.utils.data import DataLoader, RandomSampler, SequentialSampler\n",
    "from transformers import AutoTokenizer\n",
    "model_name = \"facebook/opt-1.3b\"\n",
    "tokenizer = AutoTokenizer.from_pretrained(model_name)\n",
    "\n",
    "# Assuming you have the MultilabelDataset defined as before\n",
    "\n",
    "# Load the CSV data\n",
    "df = pd.read_csv('/scratch/vgn2004/fine_tuning/datasets/paper_abstract_topic_prediction.csv')\n",
    "\n",
    "# Split the data into training and validation sets (80% train, 20% validation)\n",
    "train_df, val_df = train_test_split(df, test_size=0.2)\n",
    "\n",
    "# Create datasets\n",
    "train_dataset = MultilabelDataset(train_df, tokenizer)\n",
    "val_dataset = MultilabelDataset(val_df, tokenizer)\n",
    "\n",
    "# Create data loaders\n",
    "batch_size = 4 # Adjust as per your requirements\n",
    "\n",
    "train_dataloader = DataLoader(\n",
    "    train_dataset,\n",
    "    sampler=RandomSampler(train_dataset),\n",
    "    batch_size=batch_size\n",
    ")\n",
    "\n",
    "validation_dataloader = DataLoader(\n",
    "    val_dataset,\n",
    "    sampler=SequentialSampler(val_dataset),\n",
    "    batch_size=batch_size\n",
    ")"
   ]
  },
  {
   "cell_type": "code",
   "execution_count": 5,
   "metadata": {},
   "outputs": [
    {
     "name": "stderr",
     "output_type": "stream",
     "text": [
      "Some weights of OPTForSequenceClassification were not initialized from the model checkpoint at facebook/opt-1.3b and are newly initialized: ['score.weight']\n",
      "You should probably TRAIN this model on a down-stream task to be able to use it for predictions and inference.\n"
     ]
    }
   ],
   "source": [
    "def find_lora_target_modules(model):\n",
    "        \"\"\"Find all linear layer names in the model. reference from qlora paper.\"\"\"\n",
    "        cls = bnb.nn.Linear4bit\n",
    "\n",
    "        lora_module_names = set()\n",
    "        for name, module in model.named_modules():\n",
    "            if isinstance(module, cls):\n",
    "                # last layer is not add to lora_module_names\n",
    "                if \"lm_head\" in name or \"score\" in name:\n",
    "                    continue\n",
    "                names = name.split(\".\")\n",
    "                lora_module_names.add(names[0] if len(names) == 1 else names[-1])\n",
    "        return sorted(lora_module_names)\n",
    "\n",
    "quantization_config = BitsAndBytesConfig(\n",
    "load_in_4bit=True,\n",
    "bnb_4bit_quant_type=\"nf4\",\n",
    "bnb_4bit_compute_dtype=\"float16\",\n",
    "bnb_4bit_use_double_quant=True,\n",
    ")\n",
    "configuration = AutoConfig.from_pretrained(model_name, num_labels=6)\n",
    "model = AutoModelForSequenceClassification.from_pretrained(\n",
    "    model_name, \n",
    "    config = configuration, \n",
    "    device_map=\"auto\", \n",
    "    quantization_config=quantization_config,\n",
    ")\n",
    "\n",
    "lora_config = LoraConfig(\n",
    "    r=64,\n",
    "    lora_alpha=16,\n",
    "    lora_dropout=0.4,\n",
    "    bias=\"none\",\n",
    "    task_type=\"SEQ_CLS\",\n",
    "    target_modules=find_lora_target_modules(model),\n",
    ")\n",
    "model = get_peft_model(model, lora_config)"
   ]
  },
  {
   "cell_type": "code",
   "execution_count": 6,
   "metadata": {
    "scrolled": false
   },
   "outputs": [
    {
     "data": {
      "text/plain": [
       "PeftModelForSequenceClassification(\n",
       "  (base_model): LoraModel(\n",
       "    (model): OPTForSequenceClassification(\n",
       "      (model): OPTModel(\n",
       "        (decoder): OPTDecoder(\n",
       "          (embed_tokens): Embedding(50272, 2048, padding_idx=1)\n",
       "          (embed_positions): OPTLearnedPositionalEmbedding(2050, 2048)\n",
       "          (final_layer_norm): LayerNorm((2048,), eps=1e-05, elementwise_affine=True)\n",
       "          (layers): ModuleList(\n",
       "            (0-23): 24 x OPTDecoderLayer(\n",
       "              (self_attn): OPTAttention(\n",
       "                (k_proj): Linear4bit(\n",
       "                  in_features=2048, out_features=2048, bias=True\n",
       "                  (lora_dropout): ModuleDict(\n",
       "                    (default): Dropout(p=0.4, inplace=False)\n",
       "                  )\n",
       "                  (lora_A): ModuleDict(\n",
       "                    (default): Linear(in_features=2048, out_features=64, bias=False)\n",
       "                  )\n",
       "                  (lora_B): ModuleDict(\n",
       "                    (default): Linear(in_features=64, out_features=2048, bias=False)\n",
       "                  )\n",
       "                  (lora_embedding_A): ParameterDict()\n",
       "                  (lora_embedding_B): ParameterDict()\n",
       "                )\n",
       "                (v_proj): Linear4bit(\n",
       "                  in_features=2048, out_features=2048, bias=True\n",
       "                  (lora_dropout): ModuleDict(\n",
       "                    (default): Dropout(p=0.4, inplace=False)\n",
       "                  )\n",
       "                  (lora_A): ModuleDict(\n",
       "                    (default): Linear(in_features=2048, out_features=64, bias=False)\n",
       "                  )\n",
       "                  (lora_B): ModuleDict(\n",
       "                    (default): Linear(in_features=64, out_features=2048, bias=False)\n",
       "                  )\n",
       "                  (lora_embedding_A): ParameterDict()\n",
       "                  (lora_embedding_B): ParameterDict()\n",
       "                )\n",
       "                (q_proj): Linear4bit(\n",
       "                  in_features=2048, out_features=2048, bias=True\n",
       "                  (lora_dropout): ModuleDict(\n",
       "                    (default): Dropout(p=0.4, inplace=False)\n",
       "                  )\n",
       "                  (lora_A): ModuleDict(\n",
       "                    (default): Linear(in_features=2048, out_features=64, bias=False)\n",
       "                  )\n",
       "                  (lora_B): ModuleDict(\n",
       "                    (default): Linear(in_features=64, out_features=2048, bias=False)\n",
       "                  )\n",
       "                  (lora_embedding_A): ParameterDict()\n",
       "                  (lora_embedding_B): ParameterDict()\n",
       "                )\n",
       "                (out_proj): Linear4bit(\n",
       "                  in_features=2048, out_features=2048, bias=True\n",
       "                  (lora_dropout): ModuleDict(\n",
       "                    (default): Dropout(p=0.4, inplace=False)\n",
       "                  )\n",
       "                  (lora_A): ModuleDict(\n",
       "                    (default): Linear(in_features=2048, out_features=64, bias=False)\n",
       "                  )\n",
       "                  (lora_B): ModuleDict(\n",
       "                    (default): Linear(in_features=64, out_features=2048, bias=False)\n",
       "                  )\n",
       "                  (lora_embedding_A): ParameterDict()\n",
       "                  (lora_embedding_B): ParameterDict()\n",
       "                )\n",
       "              )\n",
       "              (activation_fn): ReLU()\n",
       "              (self_attn_layer_norm): LayerNorm((2048,), eps=1e-05, elementwise_affine=True)\n",
       "              (fc1): Linear4bit(\n",
       "                in_features=2048, out_features=8192, bias=True\n",
       "                (lora_dropout): ModuleDict(\n",
       "                  (default): Dropout(p=0.4, inplace=False)\n",
       "                )\n",
       "                (lora_A): ModuleDict(\n",
       "                  (default): Linear(in_features=2048, out_features=64, bias=False)\n",
       "                )\n",
       "                (lora_B): ModuleDict(\n",
       "                  (default): Linear(in_features=64, out_features=8192, bias=False)\n",
       "                )\n",
       "                (lora_embedding_A): ParameterDict()\n",
       "                (lora_embedding_B): ParameterDict()\n",
       "              )\n",
       "              (fc2): Linear4bit(\n",
       "                in_features=8192, out_features=2048, bias=True\n",
       "                (lora_dropout): ModuleDict(\n",
       "                  (default): Dropout(p=0.4, inplace=False)\n",
       "                )\n",
       "                (lora_A): ModuleDict(\n",
       "                  (default): Linear(in_features=8192, out_features=64, bias=False)\n",
       "                )\n",
       "                (lora_B): ModuleDict(\n",
       "                  (default): Linear(in_features=64, out_features=2048, bias=False)\n",
       "                )\n",
       "                (lora_embedding_A): ParameterDict()\n",
       "                (lora_embedding_B): ParameterDict()\n",
       "              )\n",
       "              (final_layer_norm): LayerNorm((2048,), eps=1e-05, elementwise_affine=True)\n",
       "            )\n",
       "          )\n",
       "        )\n",
       "      )\n",
       "      (score): ModulesToSaveWrapper(\n",
       "        (original_module): Linear(in_features=2048, out_features=6, bias=False)\n",
       "        (modules_to_save): ModuleDict(\n",
       "          (default): Linear(in_features=2048, out_features=6, bias=False)\n",
       "        )\n",
       "      )\n",
       "    )\n",
       "  )\n",
       ")"
      ]
     },
     "execution_count": 6,
     "metadata": {},
     "output_type": "execute_result"
    }
   ],
   "source": [
    "model"
   ]
  },
  {
   "cell_type": "code",
   "execution_count": null,
   "metadata": {},
   "outputs": [
    {
     "name": "stderr",
     "output_type": "stream",
     "text": [
      "Epoch 0 Training:   1%|          | 51/4195 [01:14<1:39:54,  1.45s/it, loss=0.4661]"
     ]
    },
    {
     "name": "stdout",
     "output_type": "stream",
     "text": [
      "Epoch 0, Step 50, Loss: 0.4661\n"
     ]
    },
    {
     "name": "stderr",
     "output_type": "stream",
     "text": [
      "Epoch 0 Training:   2%|▏         | 101/4195 [02:26<1:38:45,  1.45s/it, loss=0.1499]"
     ]
    },
    {
     "name": "stdout",
     "output_type": "stream",
     "text": [
      "Epoch 0, Step 100, Loss: 0.1499\n"
     ]
    },
    {
     "name": "stderr",
     "output_type": "stream",
     "text": [
      "Epoch 0 Training:   4%|▎         | 151/4195 [03:38<1:37:33,  1.45s/it, loss=0.1826]"
     ]
    },
    {
     "name": "stdout",
     "output_type": "stream",
     "text": [
      "Epoch 0, Step 150, Loss: 0.1826\n"
     ]
    },
    {
     "name": "stderr",
     "output_type": "stream",
     "text": [
      "Epoch 0 Training:   5%|▍         | 201/4195 [04:51<1:36:33,  1.45s/it, loss=0.0842]"
     ]
    },
    {
     "name": "stdout",
     "output_type": "stream",
     "text": [
      "Epoch 0, Step 200, Loss: 0.0842\n"
     ]
    },
    {
     "name": "stderr",
     "output_type": "stream",
     "text": [
      "Epoch 0 Training:   6%|▌         | 251/4195 [06:03<1:35:13,  1.45s/it, loss=0.1909]"
     ]
    },
    {
     "name": "stdout",
     "output_type": "stream",
     "text": [
      "Epoch 0, Step 250, Loss: 0.1909\n"
     ]
    },
    {
     "name": "stderr",
     "output_type": "stream",
     "text": [
      "Epoch 0 Training:   7%|▋         | 301/4195 [07:16<1:33:59,  1.45s/it, loss=0.2163]"
     ]
    },
    {
     "name": "stdout",
     "output_type": "stream",
     "text": [
      "Epoch 0, Step 300, Loss: 0.2163\n"
     ]
    },
    {
     "name": "stderr",
     "output_type": "stream",
     "text": [
      "Epoch 0 Training:   8%|▊         | 351/4195 [08:28<1:32:44,  1.45s/it, loss=0.1591]"
     ]
    },
    {
     "name": "stdout",
     "output_type": "stream",
     "text": [
      "Epoch 0, Step 350, Loss: 0.1591\n"
     ]
    },
    {
     "name": "stderr",
     "output_type": "stream",
     "text": [
      "Epoch 0 Training:  10%|▉         | 401/4195 [09:41<1:31:34,  1.45s/it, loss=0.1525]"
     ]
    },
    {
     "name": "stdout",
     "output_type": "stream",
     "text": [
      "Epoch 0, Step 400, Loss: 0.1525\n"
     ]
    },
    {
     "name": "stderr",
     "output_type": "stream",
     "text": [
      "Epoch 0 Training:  11%|█         | 451/4195 [10:53<1:30:23,  1.45s/it, loss=0.1039]"
     ]
    },
    {
     "name": "stdout",
     "output_type": "stream",
     "text": [
      "Epoch 0, Step 450, Loss: 0.1039\n"
     ]
    },
    {
     "name": "stderr",
     "output_type": "stream",
     "text": [
      "Epoch 0 Training:  12%|█▏        | 500/4195 [12:05<1:29:07,  1.45s/it, loss=0.3169]"
     ]
    },
    {
     "name": "stdout",
     "output_type": "stream",
     "text": [
      "Epoch 0, Step 500, Loss: 0.3169\n",
      "Evaluating...\n"
     ]
    },
    {
     "name": "stderr",
     "output_type": "stream",
     "text": [
      "Validating:  60%|█████▉    | 629/1049 [05:38<03:45,  1.86it/s]"
     ]
    }
   ],
   "source": [
    "import torch\n",
    "import numpy as np\n",
    "from sklearn.metrics import accuracy_score, f1_score, hamming_loss\n",
    "from transformers import get_linear_schedule_with_warmup\n",
    "from bitsandbytes.optim import AdamW\n",
    "from tqdm import tqdm  # Import tqdm\n",
    "\n",
    "optimizer = AdamW(\n",
    "    params=model.parameters(),\n",
    "    lr=2e-4,\n",
    "    is_paged=True,\n",
    "    optim_bits=8,\n",
    ")\n",
    "loss_fn = torch.nn.BCEWithLogitsLoss()\n",
    "device = \"cuda\"\n",
    "\n",
    "scheduler = get_linear_schedule_with_warmup(optimizer, num_warmup_steps=0, num_training_steps=len(train_dataloader) * 3)\n",
    "\n",
    "def train(epoch):\n",
    "    model.train()\n",
    "    total_loss = 0\n",
    "    \n",
    "    progress_bar = tqdm(train_dataloader, desc=f\"Epoch {epoch} Training\", position=0, leave=True)  # Wrap the dataloader with tqdm\n",
    "    for step, batch in enumerate(progress_bar):\n",
    "        batch = {k: v.to(device) for k, v in batch.items()}\n",
    "        optimizer.zero_grad()\n",
    "        \n",
    "        outputs = model(batch['input_ids'], attention_mask=batch['attention_mask'])\n",
    "        logits = outputs.logits\n",
    "\n",
    "        loss = loss_fn(logits, batch['labels'].type_as(logits))\n",
    "        loss.backward()\n",
    "        \n",
    "        optimizer.step()\n",
    "        scheduler.step()\n",
    "\n",
    "        total_loss += loss.item()\n",
    "        \n",
    "        progress_bar.set_postfix({'loss': f\"{loss.item():.4f}\"})  # Update tqdm progress bar with loss\n",
    "        \n",
    "        if step > 0 and step % 50 == 0:  # Adjust the logging frequency\n",
    "            print(f\"Epoch {epoch}, Step {step}, Loss: {loss.item():.4f}\")\n",
    "        if step > 0 and step % 500 == 0:\n",
    "            evaluate()\n",
    "\n",
    "    print(f\"Epoch {epoch}, Training Loss: {total_loss/len(train_dataloader):.4f}\")\n",
    "\n",
    "\n",
    "def evaluate():\n",
    "    print(f\"Evaluating...\")\n",
    "    LABEL_NAMES = ['Computer Science', 'Physics', 'Mathematics', 'Statistics', 'Quantitative Biology', 'Quantitative Finance']\n",
    "    model.eval()\n",
    "    total_loss = 0\n",
    "    all_preds = []\n",
    "    all_labels = []\n",
    "    \n",
    "    progress_bar = tqdm(validation_dataloader, desc=\"Validating\", position=0, leave=True)  # Wrap the dataloader with tqdm\n",
    "    with torch.no_grad():\n",
    "        for step, batch in enumerate(progress_bar):\n",
    "            batch = {k: v.to(device) for k, v in batch.items()}\n",
    "            \n",
    "            outputs = model(batch['input_ids'], attention_mask=batch['attention_mask'])\n",
    "            logits = outputs.logits\n",
    "            \n",
    "            loss = loss_fn(logits, batch['labels'].type_as(logits))\n",
    "            total_loss += loss.item()\n",
    "            \n",
    "            preds = torch.sigmoid(logits) > 0.5\n",
    "            all_preds.extend(preds.cpu().numpy())\n",
    "            all_labels.extend(batch['labels'].cpu().numpy())\n",
    "    \n",
    "    # Calculate metrics\n",
    "    all_preds = np.array(all_preds)\n",
    "    all_labels = np.array(all_labels)\n",
    "    \n",
    "    print(f\"ALL_PREDS: {all_preds[:5]}\")\n",
    "    print(f\"ALL_LABELS: {all_labels[:5]}\")\n",
    "    \n",
    "    accuracy = accuracy_score(all_labels, all_preds)\n",
    "    f1 = f1_score(all_labels, all_preds, average='micro')  # using micro average for multi-label\n",
    "    hamming = hamming_loss(all_labels, all_preds)\n",
    "\n",
    "    # Print metrics\n",
    "    print(f\"Validation Loss: {total_loss/len(validation_dataloader):.4f}\")\n",
    "    print(f\"Accuracy: {accuracy:.4f}\")\n",
    "    print(f\"Micro F1 Score: {f1:.4f}\")\n",
    "    print(f\"Hamming Loss: {hamming:.4f}\")\n",
    "\n",
    "    # Print some sample predictions\n",
    "    for i in range(2):  # printing 2 samples\n",
    "        print(\"\\nSample:\", i+1)\n",
    "        print(\"Predicted labels:\", [LABEL_NAMES[j] for j in range(len(LABEL_NAMES)) if all_preds[i][j] == 1])\n",
    "        print(\"Actual labels:\", [LABEL_NAMES[j] for j in range(len(LABEL_NAMES)) if all_labels[i][j] == 1])\n",
    "\n",
    "    model.train()\n",
    "\n",
    "# Train & Evaluate for 3 epochs as an example\n",
    "num_epochs = 20\n",
    "for epoch in range(num_epochs):\n",
    "    train(epoch)"
   ]
  },
  {
   "cell_type": "code",
   "execution_count": null,
   "metadata": {},
   "outputs": [],
   "source": []
  },
  {
   "cell_type": "code",
   "execution_count": null,
   "metadata": {},
   "outputs": [],
   "source": []
  }
 ],
 "metadata": {
  "kernelspec": {
   "display_name": "Python 3",
   "language": "python",
   "name": "python3"
  },
  "language_info": {
   "codemirror_mode": {
    "name": "ipython",
    "version": 3
   },
   "file_extension": ".py",
   "mimetype": "text/x-python",
   "name": "python",
   "nbconvert_exporter": "python",
   "pygments_lexer": "ipython3",
   "version": "3.8.6"
  }
 },
 "nbformat": 4,
 "nbformat_minor": 4
}
